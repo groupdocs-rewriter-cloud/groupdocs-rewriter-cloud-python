{
 "cells": [
  {
   "cell_type": "code",
   "execution_count": 1,
   "metadata": {
    "pycharm": {
     "name": "#%%\n"
    }
   },
   "outputs": [],
   "source": [
    "from groupdocsrewritercloud.configuration import Configuration\n",
    "from groupdocsrewritercloud.api.rewriter_api import RewriterApi\n",
    "from groupdocsrewritercloud.api.storage_api import StorageApi\n",
    "from groupdocsrewritercloud.models.rewrite_text import RewriteText\n",
    "from groupdocsrewritercloud.models.rewrite_document import RewriteDocument"
   ]
  },
  {
   "cell_type": "markdown",
   "source": [
    "## Please enter valid client_secret and client_id to run this demo. \n",
    "f\n",
    "## See documentation for details: https://docs.groupdocs.cloud/total/creating-and-managing-application/"
   ],
   "metadata": {
    "collapsed": false
   }
  },
  {
   "cell_type": "code",
   "execution_count": null,
   "outputs": [],
   "source": [
    "configuration = Configuration(client_secret=\"\", client_id=\"\")\n",
    "rewriter_api = RewriterApi(configuration)\n",
    "storage_api = StorageApi(configuration)"
   ],
   "metadata": {
    "collapsed": false,
    "pycharm": {
     "name": "#%%\n"
    }
   }
  },
  {
   "cell_type": "markdown",
   "source": [
    "## Plain text rewriting: setting parameters"
   ],
   "metadata": {
    "collapsed": false
   }
  },
  {
   "cell_type": "code",
   "execution_count": null,
   "outputs": [],
   "source": [
    "language = \"en\"\n",
    "text = \"GroupDocs Cloud customers come from a wide variety of industries and can be found all over the globe.\""
   ],
   "metadata": {
    "collapsed": false,
    "pycharm": {
     "name": "#%%\n"
    }
   }
  },
  {
   "cell_type": "markdown",
   "source": [
    "## Plain text rewriting: rewriting text"
   ],
   "metadata": {
    "collapsed": false
   }
  },
  {
   "cell_type": "code",
   "execution_count": null,
   "outputs": [],
   "source": [
    "rewriter = RewriteText(language, text, diversity=\"medium\", suggestions=2)\n",
    "request = rewriter.to_string()\n",
    "res = rewriter_api.post_rewrite_text(request)\n",
    "print(res.result)"
   ],
   "metadata": {
    "collapsed": false,
    "pycharm": {
     "name": "#%%\n"
    }
   }
  },
  {
   "cell_type": "markdown",
   "source": [
    "## Document rewriting: setting parameters"
   ],
   "metadata": {
    "collapsed": false
   }
  },
  {
   "cell_type": "code",
   "execution_count": null,
   "outputs": [],
   "source": [
    "upload_path = \"testdata/test_python.docx\"\n",
    "download_path = \"paraphrased.docx\"\n",
    "language = \"en\"\n",
    "_format = \"docx\"\n",
    "outformat = \"docx\"\n",
    "storage = \"internal\"\n",
    "name = \"test_python.docx\"\n",
    "folder = \"\"\n",
    "savepath = \"\"\n",
    "savefile = \"paraphrased.docx\""
   ],
   "metadata": {
    "collapsed": false,
    "pycharm": {
     "name": "#%%\n"
    }
   }
  },
  {
   "cell_type": "markdown",
   "source": [
    "## Document rewriting: uploading document"
   ],
   "metadata": {
    "collapsed": false
   }
  },
  {
   "cell_type": "code",
   "execution_count": null,
   "outputs": [],
   "source": [
    "upload_res = storage_api.upload_file(name, upload_path)\n",
    "print(\"File uploaded\")"
   ],
   "metadata": {
    "collapsed": false,
    "pycharm": {
     "name": "#%%\n"
    }
   }
  },
  {
   "cell_type": "markdown",
   "source": [
    "## Document rewriting: paraphrasing document"
   ],
   "metadata": {
    "collapsed": false
   }
  },
  {
   "cell_type": "code",
   "execution_count": null,
   "outputs": [],
   "source": [
    "rewriter = RewriteDocument(language, _format, outformat, storage, name, folder, savepath, savefile, diversity=\"medium\")\n",
    "request = rewriter.to_string()\n",
    "res = rewriter_api.post_rewrite_document(request)\n",
    "print(res.message)"
   ],
   "metadata": {
    "collapsed": false,
    "pycharm": {
     "name": "#%%\n"
    }
   }
  }
 ],
 "metadata": {
  "kernelspec": {
   "display_name": "Python 3",
   "language": "python",
   "name": "python3"
  },
  "language_info": {
   "codemirror_mode": {
    "name": "ipython",
    "version": 3
   },
   "file_extension": ".py",
   "mimetype": "text/x-python",
   "name": "python",
   "nbconvert_exporter": "python",
   "pygments_lexer": "ipython3",
   "version": "3.7.4"
  }
 },
 "nbformat": 4,
 "nbformat_minor": 2
}