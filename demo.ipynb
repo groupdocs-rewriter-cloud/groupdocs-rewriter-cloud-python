{
 "cells": [
  {
   "cell_type": "code",
   "execution_count": 1,
   "metadata": {
    "pycharm": {
     "name": "#%%\n"
    }
   },
   "outputs": [],
   "source": [
    "from groupdocsrewritercloud.configuration import Configuration\n",
    "from groupdocsrewritercloud.api.rewriter_api import RewriterApi\n",
    "from groupdocsrewritercloud.api.storage_api import StorageApi\n",
    "from groupdocsrewritercloud.models.rewrite_text import RewriteText\n",
    "from groupdocsrewritercloud.models.summarize_text import SummarizeText\n",
    "from groupdocsrewritercloud.models.rewrite_document import RewriteDocument\n",
    "from groupdocsrewritercloud.models.summarize_document import SummarizeDocument"
   ]
  },
  {
   "cell_type": "markdown",
   "source": [
    "## Please enter valid client_secret and client_id to run this demo. \n",
    "\n",
    "## See documentation for details: https://docs.groupdocs.cloud/total/creating-and-managing-application/"
   ],
   "metadata": {
    "collapsed": false
   }
  },
  {
   "cell_type": "code",
   "execution_count": null,
   "outputs": [],
   "source": [
    "configuration = Configuration(client_secret=\"\", client_id=\"\")\n",
    "api = RewriterApi(configuration)\n",
    "storage_api = StorageApi(configuration)"
   ],
   "metadata": {
    "collapsed": false,
    "pycharm": {
     "name": "#%%\n"
    }
   }
  },
  {
   "cell_type": "markdown",
   "source": [
    "## Plain text rewriting: setting parameters"
   ],
   "metadata": {
    "collapsed": false
   }
  },
  {
   "cell_type": "code",
   "execution_count": null,
   "outputs": [],
   "source": [
    "language = \"en\"\n",
    "text = \"GroupDocs Cloud customers come from a wide variety of industries and can be found all over the globe.\""
   ],
   "metadata": {
    "collapsed": false,
    "pycharm": {
     "name": "#%%\n"
    }
   }
  },
  {
   "cell_type": "markdown",
   "source": [
    "## Plain text rewriting: rewriting text"
   ],
   "metadata": {
    "collapsed": false
   }
  },
  {
   "cell_type": "code",
   "execution_count": null,
   "outputs": [],
   "source": [
    "rewriter = RewriteText(language, text, diversity=\"medium\", suggestions=2)\n",
    "request = rewriter.to_string()\n",
    "output = api.post_rewrite_text(request)\n",
    "print(output.result)"
   ],
   "metadata": {
    "collapsed": false,
    "pycharm": {
     "name": "#%%\n"
    }
   }
  },
  {
   "cell_type": "markdown",
   "source": [
    "## Plain text summarization: setting parameters"
   ],
   "metadata": {
    "collapsed": false
   }
  },
  {
   "cell_type": "code",
   "execution_count": null,
   "outputs": [],
   "source": [
    "language = \"en\"\n",
    "text = \"GroupDocs Cloud customers come from a wide variety of industries and can be found all over the globe.\""
   ],
   "metadata": {
    "collapsed": false,
    "pycharm": {
     "name": "#%%\n"
    }
   }
  },
  {
   "cell_type": "markdown",
   "source": [
    "## Plain text summarization: summarizing text"
   ],
   "metadata": {
    "collapsed": false
   }
  },
  {
   "cell_type": "code",
   "execution_count": null,
   "outputs": [],
   "source": [
    "summarizer = SummarizeText(language, text)\n",
    "request = summarizer.to_string()\n",
    "output = api.post_summarize_text(request)\n",
    "print(output.result)"
   ],
   "metadata": {
    "collapsed": false,
    "pycharm": {
     "name": "#%%\n"
    }
   }
  },
  {
   "cell_type": "markdown",
   "source": [
    "## Document rewriting: setting parameters"
   ],
   "metadata": {
    "collapsed": false,
    "pycharm": {
     "name": "#%% md\n"
    }
   }
  },
  {
   "cell_type": "code",
   "execution_count": null,
   "outputs": [],
   "source": [
    "upload_path = \"testdata/test_python.docx\"\n",
    "download_path = \"\"\n",
    "language = \"en\"\n",
    "_format = \"docx\"\n",
    "outformat = \"docx\"\n",
    "storage = \"internal\"\n",
    "name = \"test_python.docx\"\n",
    "folder = \"\"\n",
    "savepath = \"\"\n",
    "savefile = \"paraphrased.docx\""
   ],
   "metadata": {
    "collapsed": false,
    "pycharm": {
     "name": "#%%\n"
    }
   }
  },
  {
   "cell_type": "markdown",
   "source": [
    "## Document rewriting: uploading document"
   ],
   "metadata": {
    "collapsed": false
   }
  },
  {
   "cell_type": "code",
   "execution_count": null,
   "outputs": [],
   "source": [
    "upload_res = storage_api.upload_file(name, upload_path)\n",
    "print(\"File uploaded\")"
   ],
   "metadata": {
    "collapsed": false,
    "pycharm": {
     "name": "#%%\n"
    }
   }
  },
  {
   "cell_type": "markdown",
   "source": [
    "## Document rewriting: rewriting document"
   ],
   "metadata": {
    "collapsed": false
   }
  },
  {
   "cell_type": "code",
   "execution_count": null,
   "outputs": [],
   "source": [
    "rewriter = RewriteDocument(language, _format, outformat, storage, name, folder, savepath, savefile, diversity=\"medium\")\n",
    "request = rewriter.to_string()\n",
    "output = api.post_rewrite_document(request)\n",
    "print(output.message)"
   ],
   "metadata": {
    "collapsed": false,
    "pycharm": {
     "name": "#%%\n"
    }
   }
  },
  {
   "cell_type": "markdown",
   "source": [
    "## Document summarization: setting parameters"
   ],
   "metadata": {
    "collapsed": false
   }
  },
  {
   "cell_type": "code",
   "execution_count": null,
   "outputs": [],
   "source": [
    "upload_path = \"testdata/test_python.docx\"\n",
    "download_path = \"\"\n",
    "language = \"en\"\n",
    "_format = \"docx\"\n",
    "outformat = \"docx\"\n",
    "storage = \"internal\"\n",
    "name = \"test_python.docx\"\n",
    "folder = \"\"\n",
    "savepath = \"\"\n",
    "savefile = \"summarized.docx\""
   ],
   "metadata": {
    "collapsed": false,
    "pycharm": {
     "name": "#%%\n"
    }
   }
  },
  {
   "cell_type": "markdown",
   "source": [
    "## Document summarization: uploading document"
   ],
   "metadata": {
    "collapsed": false
   }
  },
  {
   "cell_type": "code",
   "execution_count": null,
   "outputs": [],
   "source": [
    "upload_res = storage_api.upload_file(name, upload_path)\n",
    "print(\"File uploaded\")"
   ],
   "metadata": {
    "collapsed": false,
    "pycharm": {
     "name": "#%%\n"
    }
   }
  },
  {
   "cell_type": "markdown",
   "source": [
    "## Document summarization: summarizing document"
   ],
   "metadata": {
    "collapsed": false
   }
  },
  {
   "cell_type": "code",
   "execution_count": null,
   "outputs": [],
   "source": [
    "summarizer = SummarizeDocument(language, _format, outformat, storage, name, folder, savepath, savefile)\n",
    "request = summarizer.to_string()\n",
    "output = api.post_summarize_document(request)\n",
    "print(output.message)"
   ],
   "metadata": {
    "collapsed": false,
    "pycharm": {
     "name": "#%%\n"
    }
   }
  }
 ],
 "metadata": {
  "kernelspec": {
   "display_name": "Python 3",
   "language": "python",
   "name": "python3"
  },
  "language_info": {
   "codemirror_mode": {
    "name": "ipython",
    "version": 3
   },
   "file_extension": ".py",
   "mimetype": "text/x-python",
   "name": "python",
   "nbconvert_exporter": "python",
   "pygments_lexer": "ipython3",
   "version": "3.7.4"
  }
 },
 "nbformat": 4,
 "nbformat_minor": 2
}